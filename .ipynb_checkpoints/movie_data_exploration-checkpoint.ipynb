{
 "cells": [
  {
   "cell_type": "code",
   "execution_count": 1,
   "metadata": {},
   "outputs": [],
   "source": [
    "from pandas import read_csv as csv\n",
    "from pandas import DataFrame as df\n",
    "from pandas import concat\n",
    "from os import listdir\n",
    "from ast import literal_eval as lev"
   ]
  },
  {
   "cell_type": "code",
   "execution_count": 2,
   "metadata": {},
   "outputs": [],
   "source": [
    "def explore(data):\n",
    "    print(\"Data shape (rowsXcols):\\n {} => {} in total size\".format(data.shape, data.size), end=\"\\n\\n\")\n",
    "    print(\"Available columns:\\n {}\".format(data.columns), end=\"\\n\\n\")"
   ]
  },
  {
   "cell_type": "code",
   "execution_count": 3,
   "metadata": {},
   "outputs": [],
   "source": [
    "def unpack(data, num):\n",
    "    try:\n",
    "        # create empty list as many as total features available\n",
    "        values = [[] for _ in range(len(lev(data[0])[0]))]\n",
    "        try:\n",
    "            for i, j in enumerate(lev(data[num])):\n",
    "                for k in range(len(values)):\n",
    "                    values[k].append(list(j.values())[k])\n",
    "        except:\n",
    "            values.append(0)\n",
    "\n",
    "        keys = list(lev(data[0])[0].keys()) # keys retrieved only from first dict in list\n",
    "        return dict(zip(keys, values))\n",
    "    except:\n",
    "        raise TypeError(\"This function's used for extract dicts on a list only.\\nYou sent a data with type {} instead\".format(type(data)))"
   ]
  },
  {
   "cell_type": "code",
   "execution_count": 4,
   "metadata": {
    "scrolled": true
   },
   "outputs": [],
   "source": [
    "# for n, i in enumerate(listdir(\"./data\")):\n",
    "#     print(\"({}) {}\".format(n+1, i))\n",
    "#     print(\"=================\")\n",
    "#     data = csv(\"data/\" + i, header=0, low_memory=False)\n",
    "#     explore(data)\n",
    "    \n",
    "#     for name, values in data.iteritems():\n",
    "#         print(\"{}: {}\".format(name, type(data[name][0])))\n",
    "    \n",
    "#     print()"
   ]
  },
  {
   "cell_type": "markdown",
   "metadata": {},
   "source": [
    "# credits.csv"
   ]
  },
  {
   "cell_type": "code",
   "execution_count": 5,
   "metadata": {},
   "outputs": [],
   "source": [
    "credits_data = csv(\"data/credits.csv\", header=0, low_memory=False)"
   ]
  },
  {
   "cell_type": "code",
   "execution_count": 6,
   "metadata": {},
   "outputs": [
    {
     "name": "stdout",
     "output_type": "stream",
     "text": [
      "Data shape (rowsXcols):\n",
      " (45476, 3) => 136428 in total size\n",
      "\n",
      "Available columns:\n",
      " Index(['cast', 'crew', 'id'], dtype='object')\n",
      "\n"
     ]
    }
   ],
   "source": [
    "explore(credits_data)"
   ]
  },
  {
   "cell_type": "code",
   "execution_count": 7,
   "metadata": {},
   "outputs": [
    {
     "data": {
      "text/html": [
       "<div>\n",
       "<style scoped>\n",
       "    .dataframe tbody tr th:only-of-type {\n",
       "        vertical-align: middle;\n",
       "    }\n",
       "\n",
       "    .dataframe tbody tr th {\n",
       "        vertical-align: top;\n",
       "    }\n",
       "\n",
       "    .dataframe thead th {\n",
       "        text-align: right;\n",
       "    }\n",
       "</style>\n",
       "<table border=\"1\" class=\"dataframe\">\n",
       "  <thead>\n",
       "    <tr style=\"text-align: right;\">\n",
       "      <th></th>\n",
       "      <th>credit_id</th>\n",
       "      <th>department</th>\n",
       "      <th>gender</th>\n",
       "      <th>id</th>\n",
       "      <th>job</th>\n",
       "      <th>name</th>\n",
       "      <th>profile_path</th>\n",
       "    </tr>\n",
       "  </thead>\n",
       "  <tbody>\n",
       "    <tr>\n",
       "      <th>0</th>\n",
       "      <td>52fe466a9251416c75077a89</td>\n",
       "      <td>Directing</td>\n",
       "      <td>2</td>\n",
       "      <td>26502</td>\n",
       "      <td>Director</td>\n",
       "      <td>Howard Deutch</td>\n",
       "      <td>/68Vae1HkU1NxQZ6KEmuxIpno7c9.jpg</td>\n",
       "    </tr>\n",
       "    <tr>\n",
       "      <th>1</th>\n",
       "      <td>52fe466b9251416c75077aa3</td>\n",
       "      <td>Writing</td>\n",
       "      <td>2</td>\n",
       "      <td>16837</td>\n",
       "      <td>Characters</td>\n",
       "      <td>Mark Steven Johnson</td>\n",
       "      <td>/6trChNn3o2bi4i2ipgMEAytwmZp.jpg</td>\n",
       "    </tr>\n",
       "    <tr>\n",
       "      <th>2</th>\n",
       "      <td>52fe466b9251416c75077aa9</td>\n",
       "      <td>Writing</td>\n",
       "      <td>2</td>\n",
       "      <td>16837</td>\n",
       "      <td>Writer</td>\n",
       "      <td>Mark Steven Johnson</td>\n",
       "      <td>/6trChNn3o2bi4i2ipgMEAytwmZp.jpg</td>\n",
       "    </tr>\n",
       "    <tr>\n",
       "      <th>3</th>\n",
       "      <td>5675eb4b92514179dd003933</td>\n",
       "      <td>Crew</td>\n",
       "      <td>2</td>\n",
       "      <td>1551320</td>\n",
       "      <td>Sound Recordist</td>\n",
       "      <td>Jack Keller</td>\n",
       "      <td>None</td>\n",
       "    </tr>\n",
       "  </tbody>\n",
       "</table>\n",
       "</div>"
      ],
      "text/plain": [
       "                  credit_id department  gender       id              job  \\\n",
       "0  52fe466a9251416c75077a89  Directing       2    26502         Director   \n",
       "1  52fe466b9251416c75077aa3    Writing       2    16837       Characters   \n",
       "2  52fe466b9251416c75077aa9    Writing       2    16837           Writer   \n",
       "3  5675eb4b92514179dd003933       Crew       2  1551320  Sound Recordist   \n",
       "\n",
       "                  name                      profile_path  \n",
       "0        Howard Deutch  /68Vae1HkU1NxQZ6KEmuxIpno7c9.jpg  \n",
       "1  Mark Steven Johnson  /6trChNn3o2bi4i2ipgMEAytwmZp.jpg  \n",
       "2  Mark Steven Johnson  /6trChNn3o2bi4i2ipgMEAytwmZp.jpg  \n",
       "3          Jack Keller                              None  "
      ]
     },
     "execution_count": 7,
     "metadata": {},
     "output_type": "execute_result"
    }
   ],
   "source": [
    "df(unpack(data=credits_data.crew, num=2))"
   ]
  },
  {
   "cell_type": "code",
   "execution_count": 8,
   "metadata": {},
   "outputs": [],
   "source": [
    "movies_metadata = csv(\"data/movies_metadata.csv\", header=0, low_memory=False)"
   ]
  },
  {
   "cell_type": "code",
   "execution_count": 9,
   "metadata": {},
   "outputs": [
    {
     "name": "stdout",
     "output_type": "stream",
     "text": [
      "Data shape (rowsXcols):\n",
      " (45466, 24) => 1091184 in total size\n",
      "\n",
      "Available columns:\n",
      " Index(['adult', 'belongs_to_collection', 'budget', 'genres', 'homepage', 'id',\n",
      "       'imdb_id', 'original_language', 'original_title', 'overview',\n",
      "       'popularity', 'poster_path', 'production_companies',\n",
      "       'production_countries', 'release_date', 'revenue', 'runtime',\n",
      "       'spoken_languages', 'status', 'tagline', 'title', 'video',\n",
      "       'vote_average', 'vote_count'],\n",
      "      dtype='object')\n",
      "\n"
     ]
    }
   ],
   "source": [
    "explore(movies_metadata)"
   ]
  },
  {
   "cell_type": "code",
   "execution_count": 10,
   "metadata": {},
   "outputs": [
    {
     "data": {
      "text/html": [
       "<div>\n",
       "<style scoped>\n",
       "    .dataframe tbody tr th:only-of-type {\n",
       "        vertical-align: middle;\n",
       "    }\n",
       "\n",
       "    .dataframe tbody tr th {\n",
       "        vertical-align: top;\n",
       "    }\n",
       "\n",
       "    .dataframe thead th {\n",
       "        text-align: right;\n",
       "    }\n",
       "</style>\n",
       "<table border=\"1\" class=\"dataframe\">\n",
       "  <thead>\n",
       "    <tr style=\"text-align: right;\">\n",
       "      <th></th>\n",
       "      <th>cast_id</th>\n",
       "      <th>character</th>\n",
       "      <th>credit_id</th>\n",
       "      <th>gender</th>\n",
       "      <th>id</th>\n",
       "      <th>name</th>\n",
       "      <th>order</th>\n",
       "      <th>profile_path</th>\n",
       "    </tr>\n",
       "  </thead>\n",
       "  <tbody>\n",
       "    <tr>\n",
       "      <th>0</th>\n",
       "      <td>25</td>\n",
       "      <td>Lt. Vincent Hanna</td>\n",
       "      <td>52fe4292c3a36847f80291f5</td>\n",
       "      <td>2</td>\n",
       "      <td>1158</td>\n",
       "      <td>Al Pacino</td>\n",
       "      <td>0</td>\n",
       "      <td>/ks7Ba8x9fJUlP9decBr6Dh5mThX.jpg</td>\n",
       "    </tr>\n",
       "    <tr>\n",
       "      <th>1</th>\n",
       "      <td>26</td>\n",
       "      <td>Neil McCauley</td>\n",
       "      <td>52fe4292c3a36847f80291f9</td>\n",
       "      <td>2</td>\n",
       "      <td>380</td>\n",
       "      <td>Robert De Niro</td>\n",
       "      <td>1</td>\n",
       "      <td>/lvTSwUcvJRLAJ2FB5qFaukel516.jpg</td>\n",
       "    </tr>\n",
       "    <tr>\n",
       "      <th>2</th>\n",
       "      <td>27</td>\n",
       "      <td>Chris Shiherlis</td>\n",
       "      <td>52fe4292c3a36847f80291fd</td>\n",
       "      <td>2</td>\n",
       "      <td>5576</td>\n",
       "      <td>Val Kilmer</td>\n",
       "      <td>2</td>\n",
       "      <td>/AlhPeiH8R4reMNGNQ9ag1FPbuW9.jpg</td>\n",
       "    </tr>\n",
       "    <tr>\n",
       "      <th>3</th>\n",
       "      <td>28</td>\n",
       "      <td>Nate</td>\n",
       "      <td>52fe4292c3a36847f8029201</td>\n",
       "      <td>2</td>\n",
       "      <td>10127</td>\n",
       "      <td>Jon Voight</td>\n",
       "      <td>3</td>\n",
       "      <td>/c7BvyqlvqDkfkFqSBUCiR21fvTh.jpg</td>\n",
       "    </tr>\n",
       "    <tr>\n",
       "      <th>4</th>\n",
       "      <td>29</td>\n",
       "      <td>Michael Cheritto</td>\n",
       "      <td>52fe4292c3a36847f8029205</td>\n",
       "      <td>2</td>\n",
       "      <td>3197</td>\n",
       "      <td>Tom Sizemore</td>\n",
       "      <td>4</td>\n",
       "      <td>/soINOuacuiThRb2LyPD4tTWve7C.jpg</td>\n",
       "    </tr>\n",
       "    <tr>\n",
       "      <th>...</th>\n",
       "      <td>...</td>\n",
       "      <td>...</td>\n",
       "      <td>...</td>\n",
       "      <td>...</td>\n",
       "      <td>...</td>\n",
       "      <td>...</td>\n",
       "      <td>...</td>\n",
       "      <td>...</td>\n",
       "    </tr>\n",
       "    <tr>\n",
       "      <th>60</th>\n",
       "      <td>120</td>\n",
       "      <td>Cusamano (uncredited)</td>\n",
       "      <td>56be8014c3a36817ef00540a</td>\n",
       "      <td>2</td>\n",
       "      <td>20625</td>\n",
       "      <td>Robert Miranda</td>\n",
       "      <td>60</td>\n",
       "      <td>None</td>\n",
       "    </tr>\n",
       "    <tr>\n",
       "      <th>61</th>\n",
       "      <td>121</td>\n",
       "      <td>Grocery Store Cop (uncredited)</td>\n",
       "      <td>56be8053c3a36817f40055b3</td>\n",
       "      <td>2</td>\n",
       "      <td>1502517</td>\n",
       "      <td>Manny Perry</td>\n",
       "      <td>61</td>\n",
       "      <td>None</td>\n",
       "    </tr>\n",
       "    <tr>\n",
       "      <th>62</th>\n",
       "      <td>122</td>\n",
       "      <td>Waitress (uncredited)</td>\n",
       "      <td>56be80a8925141734400508d</td>\n",
       "      <td>1</td>\n",
       "      <td>114625</td>\n",
       "      <td>Iva Franks Singer</td>\n",
       "      <td>62</td>\n",
       "      <td>None</td>\n",
       "    </tr>\n",
       "    <tr>\n",
       "      <th>63</th>\n",
       "      <td>124</td>\n",
       "      <td>Bank Guard (uncredited)</td>\n",
       "      <td>56be8132925141735900536f</td>\n",
       "      <td>0</td>\n",
       "      <td>1576562</td>\n",
       "      <td>Tim Werner</td>\n",
       "      <td>63</td>\n",
       "      <td>None</td>\n",
       "    </tr>\n",
       "    <tr>\n",
       "      <th>64</th>\n",
       "      <td>133</td>\n",
       "      <td>Ellis (uncredited)</td>\n",
       "      <td>56d48f67925141799e013151</td>\n",
       "      <td>2</td>\n",
       "      <td>1584544</td>\n",
       "      <td>Philip Ettington</td>\n",
       "      <td>64</td>\n",
       "      <td>None</td>\n",
       "    </tr>\n",
       "  </tbody>\n",
       "</table>\n",
       "<p>65 rows × 8 columns</p>\n",
       "</div>"
      ],
      "text/plain": [
       "    cast_id                       character                 credit_id  gender  \\\n",
       "0        25               Lt. Vincent Hanna  52fe4292c3a36847f80291f5       2   \n",
       "1        26                   Neil McCauley  52fe4292c3a36847f80291f9       2   \n",
       "2        27                 Chris Shiherlis  52fe4292c3a36847f80291fd       2   \n",
       "3        28                            Nate  52fe4292c3a36847f8029201       2   \n",
       "4        29                Michael Cheritto  52fe4292c3a36847f8029205       2   \n",
       "..      ...                             ...                       ...     ...   \n",
       "60      120           Cusamano (uncredited)  56be8014c3a36817ef00540a       2   \n",
       "61      121  Grocery Store Cop (uncredited)  56be8053c3a36817f40055b3       2   \n",
       "62      122           Waitress (uncredited)  56be80a8925141734400508d       1   \n",
       "63      124         Bank Guard (uncredited)  56be8132925141735900536f       0   \n",
       "64      133              Ellis (uncredited)  56d48f67925141799e013151       2   \n",
       "\n",
       "         id               name  order                      profile_path  \n",
       "0      1158          Al Pacino      0  /ks7Ba8x9fJUlP9decBr6Dh5mThX.jpg  \n",
       "1       380     Robert De Niro      1  /lvTSwUcvJRLAJ2FB5qFaukel516.jpg  \n",
       "2      5576         Val Kilmer      2  /AlhPeiH8R4reMNGNQ9ag1FPbuW9.jpg  \n",
       "3     10127         Jon Voight      3  /c7BvyqlvqDkfkFqSBUCiR21fvTh.jpg  \n",
       "4      3197       Tom Sizemore      4  /soINOuacuiThRb2LyPD4tTWve7C.jpg  \n",
       "..      ...                ...    ...                               ...  \n",
       "60    20625     Robert Miranda     60                              None  \n",
       "61  1502517        Manny Perry     61                              None  \n",
       "62   114625  Iva Franks Singer     62                              None  \n",
       "63  1576562         Tim Werner     63                              None  \n",
       "64  1584544   Philip Ettington     64                              None  \n",
       "\n",
       "[65 rows x 8 columns]"
      ]
     },
     "execution_count": 10,
     "metadata": {},
     "output_type": "execute_result"
    }
   ],
   "source": [
    "df(unpack(data=credits_data.cast, num=5))"
   ]
  },
  {
   "cell_type": "code",
   "execution_count": 11,
   "metadata": {
    "scrolled": true
   },
   "outputs": [
    {
     "name": "stdout",
     "output_type": "stream",
     "text": [
      "adult: <class 'str'>\n",
      "belongs_to_collection: <class 'str'>\n",
      "budget: <class 'str'>\n",
      "genres: <class 'str'>\n",
      "homepage: <class 'str'>\n",
      "id: <class 'str'>\n",
      "imdb_id: <class 'str'>\n",
      "original_language: <class 'str'>\n",
      "original_title: <class 'str'>\n",
      "overview: <class 'str'>\n",
      "popularity: <class 'str'>\n",
      "poster_path: <class 'str'>\n",
      "production_companies: <class 'str'>\n",
      "production_countries: <class 'str'>\n",
      "release_date: <class 'str'>\n",
      "revenue: <class 'numpy.float64'>\n",
      "runtime: <class 'numpy.float64'>\n",
      "spoken_languages: <class 'str'>\n",
      "status: <class 'str'>\n",
      "tagline: <class 'float'>\n",
      "title: <class 'str'>\n",
      "video: <class 'bool'>\n",
      "vote_average: <class 'numpy.float64'>\n",
      "vote_count: <class 'numpy.float64'>\n"
     ]
    }
   ],
   "source": [
    "for name, values in movies_metadata.iteritems():\n",
    "    print(\"{}: {}\".format(name, type(movies_metadata[name][0])))"
   ]
  },
  {
   "cell_type": "markdown",
   "metadata": {},
   "source": [
    "# movies_metadata.csv"
   ]
  },
  {
   "cell_type": "code",
   "execution_count": 12,
   "metadata": {},
   "outputs": [
    {
     "data": {
      "text/plain": [
       "45466"
      ]
     },
     "execution_count": 12,
     "metadata": {},
     "output_type": "execute_result"
    }
   ],
   "source": [
    "len(movies_metadata)"
   ]
  },
  {
   "cell_type": "code",
   "execution_count": 13,
   "metadata": {},
   "outputs": [
    {
     "data": {
      "text/html": [
       "<div>\n",
       "<style scoped>\n",
       "    .dataframe tbody tr th:only-of-type {\n",
       "        vertical-align: middle;\n",
       "    }\n",
       "\n",
       "    .dataframe tbody tr th {\n",
       "        vertical-align: top;\n",
       "    }\n",
       "\n",
       "    .dataframe thead th {\n",
       "        text-align: right;\n",
       "    }\n",
       "</style>\n",
       "<table border=\"1\" class=\"dataframe\">\n",
       "  <thead>\n",
       "    <tr style=\"text-align: right;\">\n",
       "      <th></th>\n",
       "      <th>genres</th>\n",
       "      <th>id</th>\n",
       "      <th>popularity</th>\n",
       "      <th>production_companies</th>\n",
       "      <th>release_date</th>\n",
       "      <th>revenue</th>\n",
       "      <th>runtime</th>\n",
       "    </tr>\n",
       "  </thead>\n",
       "  <tbody>\n",
       "    <tr>\n",
       "      <th>0</th>\n",
       "      <td>[{'id': 16, 'name': 'Animation'}, {'id': 35, '...</td>\n",
       "      <td>862</td>\n",
       "      <td>21.946943</td>\n",
       "      <td>[{'name': 'Pixar Animation Studios', 'id': 3}]</td>\n",
       "      <td>1995-10-30</td>\n",
       "      <td>373554033.0</td>\n",
       "      <td>81.0</td>\n",
       "    </tr>\n",
       "    <tr>\n",
       "      <th>1</th>\n",
       "      <td>[{'id': 12, 'name': 'Adventure'}, {'id': 14, '...</td>\n",
       "      <td>8844</td>\n",
       "      <td>17.015539</td>\n",
       "      <td>[{'name': 'TriStar Pictures', 'id': 559}, {'na...</td>\n",
       "      <td>1995-12-15</td>\n",
       "      <td>262797249.0</td>\n",
       "      <td>104.0</td>\n",
       "    </tr>\n",
       "    <tr>\n",
       "      <th>2</th>\n",
       "      <td>[{'id': 10749, 'name': 'Romance'}, {'id': 35, ...</td>\n",
       "      <td>15602</td>\n",
       "      <td>11.7129</td>\n",
       "      <td>[{'name': 'Warner Bros.', 'id': 6194}, {'name'...</td>\n",
       "      <td>1995-12-22</td>\n",
       "      <td>0.0</td>\n",
       "      <td>101.0</td>\n",
       "    </tr>\n",
       "    <tr>\n",
       "      <th>3</th>\n",
       "      <td>[{'id': 35, 'name': 'Comedy'}, {'id': 18, 'nam...</td>\n",
       "      <td>31357</td>\n",
       "      <td>3.859495</td>\n",
       "      <td>[{'name': 'Twentieth Century Fox Film Corporat...</td>\n",
       "      <td>1995-12-22</td>\n",
       "      <td>81452156.0</td>\n",
       "      <td>127.0</td>\n",
       "    </tr>\n",
       "    <tr>\n",
       "      <th>4</th>\n",
       "      <td>[{'id': 35, 'name': 'Comedy'}]</td>\n",
       "      <td>11862</td>\n",
       "      <td>8.387519</td>\n",
       "      <td>[{'name': 'Sandollar Productions', 'id': 5842}...</td>\n",
       "      <td>1995-02-10</td>\n",
       "      <td>76578911.0</td>\n",
       "      <td>106.0</td>\n",
       "    </tr>\n",
       "    <tr>\n",
       "      <th>...</th>\n",
       "      <td>...</td>\n",
       "      <td>...</td>\n",
       "      <td>...</td>\n",
       "      <td>...</td>\n",
       "      <td>...</td>\n",
       "      <td>...</td>\n",
       "      <td>...</td>\n",
       "    </tr>\n",
       "    <tr>\n",
       "      <th>45461</th>\n",
       "      <td>[{'id': 18, 'name': 'Drama'}, {'id': 10751, 'n...</td>\n",
       "      <td>439050</td>\n",
       "      <td>0.072051</td>\n",
       "      <td>[]</td>\n",
       "      <td>NaN</td>\n",
       "      <td>0.0</td>\n",
       "      <td>90.0</td>\n",
       "    </tr>\n",
       "    <tr>\n",
       "      <th>45462</th>\n",
       "      <td>[{'id': 18, 'name': 'Drama'}]</td>\n",
       "      <td>111109</td>\n",
       "      <td>0.178241</td>\n",
       "      <td>[{'name': 'Sine Olivia', 'id': 19653}]</td>\n",
       "      <td>2011-11-17</td>\n",
       "      <td>0.0</td>\n",
       "      <td>360.0</td>\n",
       "    </tr>\n",
       "    <tr>\n",
       "      <th>45463</th>\n",
       "      <td>[{'id': 28, 'name': 'Action'}, {'id': 18, 'nam...</td>\n",
       "      <td>67758</td>\n",
       "      <td>0.903007</td>\n",
       "      <td>[{'name': 'American World Pictures', 'id': 6165}]</td>\n",
       "      <td>2003-08-01</td>\n",
       "      <td>0.0</td>\n",
       "      <td>90.0</td>\n",
       "    </tr>\n",
       "    <tr>\n",
       "      <th>45464</th>\n",
       "      <td>[]</td>\n",
       "      <td>227506</td>\n",
       "      <td>0.003503</td>\n",
       "      <td>[{'name': 'Yermoliev', 'id': 88753}]</td>\n",
       "      <td>1917-10-21</td>\n",
       "      <td>0.0</td>\n",
       "      <td>87.0</td>\n",
       "    </tr>\n",
       "    <tr>\n",
       "      <th>45465</th>\n",
       "      <td>[]</td>\n",
       "      <td>461257</td>\n",
       "      <td>0.163015</td>\n",
       "      <td>[]</td>\n",
       "      <td>2017-06-09</td>\n",
       "      <td>0.0</td>\n",
       "      <td>75.0</td>\n",
       "    </tr>\n",
       "  </tbody>\n",
       "</table>\n",
       "<p>45466 rows × 7 columns</p>\n",
       "</div>"
      ],
      "text/plain": [
       "                                                  genres      id popularity  \\\n",
       "0      [{'id': 16, 'name': 'Animation'}, {'id': 35, '...     862  21.946943   \n",
       "1      [{'id': 12, 'name': 'Adventure'}, {'id': 14, '...    8844  17.015539   \n",
       "2      [{'id': 10749, 'name': 'Romance'}, {'id': 35, ...   15602    11.7129   \n",
       "3      [{'id': 35, 'name': 'Comedy'}, {'id': 18, 'nam...   31357   3.859495   \n",
       "4                         [{'id': 35, 'name': 'Comedy'}]   11862   8.387519   \n",
       "...                                                  ...     ...        ...   \n",
       "45461  [{'id': 18, 'name': 'Drama'}, {'id': 10751, 'n...  439050   0.072051   \n",
       "45462                      [{'id': 18, 'name': 'Drama'}]  111109   0.178241   \n",
       "45463  [{'id': 28, 'name': 'Action'}, {'id': 18, 'nam...   67758   0.903007   \n",
       "45464                                                 []  227506   0.003503   \n",
       "45465                                                 []  461257   0.163015   \n",
       "\n",
       "                                    production_companies release_date  \\\n",
       "0         [{'name': 'Pixar Animation Studios', 'id': 3}]   1995-10-30   \n",
       "1      [{'name': 'TriStar Pictures', 'id': 559}, {'na...   1995-12-15   \n",
       "2      [{'name': 'Warner Bros.', 'id': 6194}, {'name'...   1995-12-22   \n",
       "3      [{'name': 'Twentieth Century Fox Film Corporat...   1995-12-22   \n",
       "4      [{'name': 'Sandollar Productions', 'id': 5842}...   1995-02-10   \n",
       "...                                                  ...          ...   \n",
       "45461                                                 []          NaN   \n",
       "45462             [{'name': 'Sine Olivia', 'id': 19653}]   2011-11-17   \n",
       "45463  [{'name': 'American World Pictures', 'id': 6165}]   2003-08-01   \n",
       "45464               [{'name': 'Yermoliev', 'id': 88753}]   1917-10-21   \n",
       "45465                                                 []   2017-06-09   \n",
       "\n",
       "           revenue  runtime  \n",
       "0      373554033.0     81.0  \n",
       "1      262797249.0    104.0  \n",
       "2              0.0    101.0  \n",
       "3       81452156.0    127.0  \n",
       "4       76578911.0    106.0  \n",
       "...            ...      ...  \n",
       "45461          0.0     90.0  \n",
       "45462          0.0    360.0  \n",
       "45463          0.0     90.0  \n",
       "45464          0.0     87.0  \n",
       "45465          0.0     75.0  \n",
       "\n",
       "[45466 rows x 7 columns]"
      ]
     },
     "execution_count": 13,
     "metadata": {},
     "output_type": "execute_result"
    }
   ],
   "source": [
    "movies_metadata[[\"genres\", \"id\", \"popularity\", \"production_companies\", \"release_date\", \"revenue\", \"runtime\"]]"
   ]
  },
  {
   "cell_type": "code",
   "execution_count": 14,
   "metadata": {},
   "outputs": [
    {
     "data": {
      "text/html": [
       "<div>\n",
       "<style scoped>\n",
       "    .dataframe tbody tr th:only-of-type {\n",
       "        vertical-align: middle;\n",
       "    }\n",
       "\n",
       "    .dataframe tbody tr th {\n",
       "        vertical-align: top;\n",
       "    }\n",
       "\n",
       "    .dataframe thead th {\n",
       "        text-align: right;\n",
       "    }\n",
       "</style>\n",
       "<table border=\"1\" class=\"dataframe\">\n",
       "  <thead>\n",
       "    <tr style=\"text-align: right;\">\n",
       "      <th></th>\n",
       "      <th>adult</th>\n",
       "      <th>belongs_to_collection</th>\n",
       "      <th>budget</th>\n",
       "      <th>genres</th>\n",
       "      <th>homepage</th>\n",
       "      <th>id</th>\n",
       "      <th>imdb_id</th>\n",
       "      <th>original_language</th>\n",
       "      <th>original_title</th>\n",
       "      <th>overview</th>\n",
       "      <th>...</th>\n",
       "      <th>release_date</th>\n",
       "      <th>revenue</th>\n",
       "      <th>runtime</th>\n",
       "      <th>spoken_languages</th>\n",
       "      <th>status</th>\n",
       "      <th>tagline</th>\n",
       "      <th>title</th>\n",
       "      <th>video</th>\n",
       "      <th>vote_average</th>\n",
       "      <th>vote_count</th>\n",
       "    </tr>\n",
       "  </thead>\n",
       "  <tbody>\n",
       "    <tr>\n",
       "      <th>0</th>\n",
       "      <td>False</td>\n",
       "      <td>{'id': 10194, 'name': 'Toy Story Collection', ...</td>\n",
       "      <td>30000000</td>\n",
       "      <td>[{'id': 16, 'name': 'Animation'}, {'id': 35, '...</td>\n",
       "      <td>http://toystory.disney.com/toy-story</td>\n",
       "      <td>862</td>\n",
       "      <td>tt0114709</td>\n",
       "      <td>en</td>\n",
       "      <td>Toy Story</td>\n",
       "      <td>Led by Woody, Andy's toys live happily in his ...</td>\n",
       "      <td>...</td>\n",
       "      <td>1995-10-30</td>\n",
       "      <td>373554033.0</td>\n",
       "      <td>81.0</td>\n",
       "      <td>[{'iso_639_1': 'en', 'name': 'English'}]</td>\n",
       "      <td>Released</td>\n",
       "      <td>NaN</td>\n",
       "      <td>Toy Story</td>\n",
       "      <td>False</td>\n",
       "      <td>7.7</td>\n",
       "      <td>5415.0</td>\n",
       "    </tr>\n",
       "    <tr>\n",
       "      <th>1</th>\n",
       "      <td>False</td>\n",
       "      <td>NaN</td>\n",
       "      <td>65000000</td>\n",
       "      <td>[{'id': 12, 'name': 'Adventure'}, {'id': 14, '...</td>\n",
       "      <td>NaN</td>\n",
       "      <td>8844</td>\n",
       "      <td>tt0113497</td>\n",
       "      <td>en</td>\n",
       "      <td>Jumanji</td>\n",
       "      <td>When siblings Judy and Peter discover an encha...</td>\n",
       "      <td>...</td>\n",
       "      <td>1995-12-15</td>\n",
       "      <td>262797249.0</td>\n",
       "      <td>104.0</td>\n",
       "      <td>[{'iso_639_1': 'en', 'name': 'English'}, {'iso...</td>\n",
       "      <td>Released</td>\n",
       "      <td>Roll the dice and unleash the excitement!</td>\n",
       "      <td>Jumanji</td>\n",
       "      <td>False</td>\n",
       "      <td>6.9</td>\n",
       "      <td>2413.0</td>\n",
       "    </tr>\n",
       "    <tr>\n",
       "      <th>2</th>\n",
       "      <td>False</td>\n",
       "      <td>{'id': 119050, 'name': 'Grumpy Old Men Collect...</td>\n",
       "      <td>0</td>\n",
       "      <td>[{'id': 10749, 'name': 'Romance'}, {'id': 35, ...</td>\n",
       "      <td>NaN</td>\n",
       "      <td>15602</td>\n",
       "      <td>tt0113228</td>\n",
       "      <td>en</td>\n",
       "      <td>Grumpier Old Men</td>\n",
       "      <td>A family wedding reignites the ancient feud be...</td>\n",
       "      <td>...</td>\n",
       "      <td>1995-12-22</td>\n",
       "      <td>0.0</td>\n",
       "      <td>101.0</td>\n",
       "      <td>[{'iso_639_1': 'en', 'name': 'English'}]</td>\n",
       "      <td>Released</td>\n",
       "      <td>Still Yelling. Still Fighting. Still Ready for...</td>\n",
       "      <td>Grumpier Old Men</td>\n",
       "      <td>False</td>\n",
       "      <td>6.5</td>\n",
       "      <td>92.0</td>\n",
       "    </tr>\n",
       "    <tr>\n",
       "      <th>3</th>\n",
       "      <td>False</td>\n",
       "      <td>NaN</td>\n",
       "      <td>16000000</td>\n",
       "      <td>[{'id': 35, 'name': 'Comedy'}, {'id': 18, 'nam...</td>\n",
       "      <td>NaN</td>\n",
       "      <td>31357</td>\n",
       "      <td>tt0114885</td>\n",
       "      <td>en</td>\n",
       "      <td>Waiting to Exhale</td>\n",
       "      <td>Cheated on, mistreated and stepped on, the wom...</td>\n",
       "      <td>...</td>\n",
       "      <td>1995-12-22</td>\n",
       "      <td>81452156.0</td>\n",
       "      <td>127.0</td>\n",
       "      <td>[{'iso_639_1': 'en', 'name': 'English'}]</td>\n",
       "      <td>Released</td>\n",
       "      <td>Friends are the people who let you be yourself...</td>\n",
       "      <td>Waiting to Exhale</td>\n",
       "      <td>False</td>\n",
       "      <td>6.1</td>\n",
       "      <td>34.0</td>\n",
       "    </tr>\n",
       "    <tr>\n",
       "      <th>4</th>\n",
       "      <td>False</td>\n",
       "      <td>{'id': 96871, 'name': 'Father of the Bride Col...</td>\n",
       "      <td>0</td>\n",
       "      <td>[{'id': 35, 'name': 'Comedy'}]</td>\n",
       "      <td>NaN</td>\n",
       "      <td>11862</td>\n",
       "      <td>tt0113041</td>\n",
       "      <td>en</td>\n",
       "      <td>Father of the Bride Part II</td>\n",
       "      <td>Just when George Banks has recovered from his ...</td>\n",
       "      <td>...</td>\n",
       "      <td>1995-02-10</td>\n",
       "      <td>76578911.0</td>\n",
       "      <td>106.0</td>\n",
       "      <td>[{'iso_639_1': 'en', 'name': 'English'}]</td>\n",
       "      <td>Released</td>\n",
       "      <td>Just When His World Is Back To Normal... He's ...</td>\n",
       "      <td>Father of the Bride Part II</td>\n",
       "      <td>False</td>\n",
       "      <td>5.7</td>\n",
       "      <td>173.0</td>\n",
       "    </tr>\n",
       "  </tbody>\n",
       "</table>\n",
       "<p>5 rows × 24 columns</p>\n",
       "</div>"
      ],
      "text/plain": [
       "   adult                              belongs_to_collection    budget  \\\n",
       "0  False  {'id': 10194, 'name': 'Toy Story Collection', ...  30000000   \n",
       "1  False                                                NaN  65000000   \n",
       "2  False  {'id': 119050, 'name': 'Grumpy Old Men Collect...         0   \n",
       "3  False                                                NaN  16000000   \n",
       "4  False  {'id': 96871, 'name': 'Father of the Bride Col...         0   \n",
       "\n",
       "                                              genres  \\\n",
       "0  [{'id': 16, 'name': 'Animation'}, {'id': 35, '...   \n",
       "1  [{'id': 12, 'name': 'Adventure'}, {'id': 14, '...   \n",
       "2  [{'id': 10749, 'name': 'Romance'}, {'id': 35, ...   \n",
       "3  [{'id': 35, 'name': 'Comedy'}, {'id': 18, 'nam...   \n",
       "4                     [{'id': 35, 'name': 'Comedy'}]   \n",
       "\n",
       "                               homepage     id    imdb_id original_language  \\\n",
       "0  http://toystory.disney.com/toy-story    862  tt0114709                en   \n",
       "1                                   NaN   8844  tt0113497                en   \n",
       "2                                   NaN  15602  tt0113228                en   \n",
       "3                                   NaN  31357  tt0114885                en   \n",
       "4                                   NaN  11862  tt0113041                en   \n",
       "\n",
       "                original_title  \\\n",
       "0                    Toy Story   \n",
       "1                      Jumanji   \n",
       "2             Grumpier Old Men   \n",
       "3            Waiting to Exhale   \n",
       "4  Father of the Bride Part II   \n",
       "\n",
       "                                            overview  ... release_date  \\\n",
       "0  Led by Woody, Andy's toys live happily in his ...  ...   1995-10-30   \n",
       "1  When siblings Judy and Peter discover an encha...  ...   1995-12-15   \n",
       "2  A family wedding reignites the ancient feud be...  ...   1995-12-22   \n",
       "3  Cheated on, mistreated and stepped on, the wom...  ...   1995-12-22   \n",
       "4  Just when George Banks has recovered from his ...  ...   1995-02-10   \n",
       "\n",
       "       revenue runtime                                   spoken_languages  \\\n",
       "0  373554033.0    81.0           [{'iso_639_1': 'en', 'name': 'English'}]   \n",
       "1  262797249.0   104.0  [{'iso_639_1': 'en', 'name': 'English'}, {'iso...   \n",
       "2          0.0   101.0           [{'iso_639_1': 'en', 'name': 'English'}]   \n",
       "3   81452156.0   127.0           [{'iso_639_1': 'en', 'name': 'English'}]   \n",
       "4   76578911.0   106.0           [{'iso_639_1': 'en', 'name': 'English'}]   \n",
       "\n",
       "     status                                            tagline  \\\n",
       "0  Released                                                NaN   \n",
       "1  Released          Roll the dice and unleash the excitement!   \n",
       "2  Released  Still Yelling. Still Fighting. Still Ready for...   \n",
       "3  Released  Friends are the people who let you be yourself...   \n",
       "4  Released  Just When His World Is Back To Normal... He's ...   \n",
       "\n",
       "                         title  video vote_average vote_count  \n",
       "0                    Toy Story  False          7.7     5415.0  \n",
       "1                      Jumanji  False          6.9     2413.0  \n",
       "2             Grumpier Old Men  False          6.5       92.0  \n",
       "3            Waiting to Exhale  False          6.1       34.0  \n",
       "4  Father of the Bride Part II  False          5.7      173.0  \n",
       "\n",
       "[5 rows x 24 columns]"
      ]
     },
     "execution_count": 14,
     "metadata": {},
     "output_type": "execute_result"
    }
   ],
   "source": [
    "movies_metadata.head()"
   ]
  },
  {
   "cell_type": "markdown",
   "metadata": {},
   "source": [
    "* **UNPACK SOME DIMENSION AND SAVE INTO NEW .CSV FILE**"
   ]
  },
  {
   "cell_type": "code",
   "execution_count": 15,
   "metadata": {},
   "outputs": [],
   "source": [
    "def append_row(col):\n",
    "    what_to_concat = []\n",
    "    for c in range(len(col)):\n",
    "        unpacked = df(unpack(col, c))\n",
    "        unpacked.insert(0, \"movie_id\", movies_metadata.id[c], True)\n",
    "        what_to_concat.append(unpacked)\n",
    "\n",
    "    return concat(what_to_concat, ignore_index=True)"
   ]
  },
  {
   "cell_type": "code",
   "execution_count": 16,
   "metadata": {},
   "outputs": [],
   "source": [
    "# prodc = append_row(metadata.production_companies)\n",
    "# prodc.to_csv(r'\\myPath', index = False, header=True)"
   ]
  },
  {
   "cell_type": "code",
   "execution_count": 17,
   "metadata": {},
   "outputs": [],
   "source": [
    "# genre = append_row(metadata.genres)\n",
    "# genre.to_csv(r'\\myPath', index = False, header=True)"
   ]
  },
  {
   "cell_type": "markdown",
   "metadata": {},
   "source": [
    "* **CHECK FOR AVAILABLE ZERO AND NULL VALUES**"
   ]
  },
  {
   "cell_type": "code",
   "execution_count": 18,
   "metadata": {},
   "outputs": [],
   "source": [
    "def return_null(dim, *args, **kwargs):\n",
    "    try:\n",
    "        return [i for i, j in enumerate(dim) if dim.isnull()[i] == True]\n",
    "    except:\n",
    "        raise ValueError(\"Undefined type.\")"
   ]
  },
  {
   "cell_type": "code",
   "execution_count": 19,
   "metadata": {},
   "outputs": [],
   "source": [
    "def return_zero(dim, *args, **kwargs):\n",
    "    try:\n",
    "        return [i for i, j in enumerate(dim) if j==0]\n",
    "    except:\n",
    "        raise ValueError(\"Undefined type.\")"
   ]
  },
  {
   "cell_type": "code",
   "execution_count": 20,
   "metadata": {},
   "outputs": [
    {
     "name": "stdout",
     "output_type": "stream",
     "text": [
      "Total zero values in popularity: 0\n",
      "Total null values in popularity: 5\n",
      "Total zero values in revenue: 38052\n",
      "Total null values in revenue: 6\n"
     ]
    }
   ],
   "source": [
    "for i, j in enumerate([movies_metadata.popularity, movies_metadata.revenue]):\n",
    "    print(\"Total zero values in {}: {}\".format(j.name, len(return_zero(j))))\n",
    "    print(\"Total null values in {}: {}\".format(j.name, len(return_null(j))))"
   ]
  },
  {
   "cell_type": "markdown",
   "metadata": {},
   "source": [
    "* **CHECK IF THERE IS ANY ROW WHICH HAS BOTH ZERO AND NULL VALUE**"
   ]
  },
  {
   "cell_type": "markdown",
   "metadata": {},
   "source": [
    "Total rows: 7397"
   ]
  },
  {
   "cell_type": "code",
   "execution_count": 21,
   "metadata": {},
   "outputs": [],
   "source": [
    "return_null_revenue = return_null(movies_metadata.revenue)\n",
    "return_null_popularity = return_null(movies_metadata.popularity)\n",
    "return_zero_revenue = return_zero(movies_metadata.revenue)\n",
    "return_zero_popularity = return_zero(movies_metadata.popularity)"
   ]
  },
  {
   "cell_type": "code",
   "execution_count": 40,
   "metadata": {},
   "outputs": [
    {
     "data": {
      "text/plain": [
       "16.269300136365636"
      ]
     },
     "execution_count": 40,
     "metadata": {},
     "output_type": "execute_result"
    }
   ],
   "source": [
    "7397 / len(movies_metadata) * 100"
   ]
  },
  {
   "cell_type": "code",
   "execution_count": 23,
   "metadata": {
    "scrolled": true
   },
   "outputs": [
    {
     "data": {
      "text/plain": [
       "{19729, 19730, 29502, 29503, 35586}"
      ]
     },
     "execution_count": 23,
     "metadata": {},
     "output_type": "execute_result"
    }
   ],
   "source": [
    "null_revenue_null_popularity = set(return_null_revenue).intersection(return_null_popularity)\n",
    "null_revenue_null_popularity"
   ]
  },
  {
   "cell_type": "code",
   "execution_count": 24,
   "metadata": {},
   "outputs": [
    {
     "data": {
      "text/plain": [
       "set()"
      ]
     },
     "execution_count": 24,
     "metadata": {},
     "output_type": "execute_result"
    }
   ],
   "source": [
    "null_revenue_zero_popularity = set(return_null_revenue).intersection(return_zero_popularity)\n",
    "null_revenue_zero_popularity"
   ]
  },
  {
   "cell_type": "code",
   "execution_count": 25,
   "metadata": {},
   "outputs": [
    {
     "data": {
      "text/plain": [
       "set()"
      ]
     },
     "execution_count": 25,
     "metadata": {},
     "output_type": "execute_result"
    }
   ],
   "source": [
    "zero_revenue_zero_popularity = set(return_zero_revenue).intersection(return_zero_popularity)\n",
    "zero_revenue_zero_popularity"
   ]
  },
  {
   "cell_type": "code",
   "execution_count": 26,
   "metadata": {},
   "outputs": [
    {
     "data": {
      "text/plain": [
       "set()"
      ]
     },
     "execution_count": 26,
     "metadata": {},
     "output_type": "execute_result"
    }
   ],
   "source": [
    "zero_revenue_null_popularity = set(return_zero_revenue).intersection(return_null_popularity)\n",
    "zero_revenue_null_popularity"
   ]
  },
  {
   "cell_type": "code",
   "execution_count": 27,
   "metadata": {},
   "outputs": [
    {
     "data": {
      "text/html": [
       "<div>\n",
       "<style scoped>\n",
       "    .dataframe tbody tr th:only-of-type {\n",
       "        vertical-align: middle;\n",
       "    }\n",
       "\n",
       "    .dataframe tbody tr th {\n",
       "        vertical-align: top;\n",
       "    }\n",
       "\n",
       "    .dataframe thead th {\n",
       "        text-align: right;\n",
       "    }\n",
       "</style>\n",
       "<table border=\"1\" class=\"dataframe\">\n",
       "  <thead>\n",
       "    <tr style=\"text-align: right;\">\n",
       "      <th></th>\n",
       "      <th>TmdbId</th>\n",
       "      <th>MovieTitle</th>\n",
       "      <th>Popularity</th>\n",
       "      <th>ReleaseDate</th>\n",
       "      <th>Revenue</th>\n",
       "      <th>Runtime</th>\n",
       "    </tr>\n",
       "  </thead>\n",
       "  <tbody>\n",
       "    <tr>\n",
       "      <th>0</th>\n",
       "      <td>862</td>\n",
       "      <td>Toy Story</td>\n",
       "      <td>21.946943</td>\n",
       "      <td>35002</td>\n",
       "      <td>373554033</td>\n",
       "      <td>81.0</td>\n",
       "    </tr>\n",
       "    <tr>\n",
       "      <th>1</th>\n",
       "      <td>8844</td>\n",
       "      <td>Jumanji</td>\n",
       "      <td>17.015539</td>\n",
       "      <td>35048</td>\n",
       "      <td>262797249</td>\n",
       "      <td>104.0</td>\n",
       "    </tr>\n",
       "    <tr>\n",
       "      <th>2</th>\n",
       "      <td>31357</td>\n",
       "      <td>Waiting to Exhale</td>\n",
       "      <td>3.859495</td>\n",
       "      <td>35055</td>\n",
       "      <td>81452156</td>\n",
       "      <td>127.0</td>\n",
       "    </tr>\n",
       "    <tr>\n",
       "      <th>3</th>\n",
       "      <td>11862</td>\n",
       "      <td>Father of the Bride Part II</td>\n",
       "      <td>8.387519</td>\n",
       "      <td>34740</td>\n",
       "      <td>76578911</td>\n",
       "      <td>106.0</td>\n",
       "    </tr>\n",
       "    <tr>\n",
       "      <th>4</th>\n",
       "      <td>949</td>\n",
       "      <td>Heat</td>\n",
       "      <td>17.924927</td>\n",
       "      <td>35048</td>\n",
       "      <td>187436818</td>\n",
       "      <td>170.0</td>\n",
       "    </tr>\n",
       "  </tbody>\n",
       "</table>\n",
       "</div>"
      ],
      "text/plain": [
       "   TmdbId                   MovieTitle  Popularity  ReleaseDate    Revenue  \\\n",
       "0     862                    Toy Story   21.946943        35002  373554033   \n",
       "1    8844                      Jumanji   17.015539        35048  262797249   \n",
       "2   31357            Waiting to Exhale    3.859495        35055   81452156   \n",
       "3   11862  Father of the Bride Part II    8.387519        34740   76578911   \n",
       "4     949                         Heat   17.924927        35048  187436818   \n",
       "\n",
       "   Runtime  \n",
       "0     81.0  \n",
       "1    104.0  \n",
       "2    127.0  \n",
       "3    106.0  \n",
       "4    170.0  "
      ]
     },
     "execution_count": 27,
     "metadata": {},
     "output_type": "execute_result"
    }
   ],
   "source": [
    "preprocessed_movies_metadata = csv(\"data/dtlMovie.csv\", header = 0)\n",
    "preprocessed_movies_metadata.head()"
   ]
  },
  {
   "cell_type": "code",
   "execution_count": 28,
   "metadata": {},
   "outputs": [
    {
     "data": {
      "text/plain": [
       "7397"
      ]
     },
     "execution_count": 28,
     "metadata": {},
     "output_type": "execute_result"
    }
   ],
   "source": [
    "len(preprocessed_movies_metadata.drop_duplicates(\"TmdbId\"))"
   ]
  },
  {
   "cell_type": "code",
   "execution_count": 29,
   "metadata": {},
   "outputs": [
    {
     "data": {
      "text/html": [
       "<div>\n",
       "<style scoped>\n",
       "    .dataframe tbody tr th:only-of-type {\n",
       "        vertical-align: middle;\n",
       "    }\n",
       "\n",
       "    .dataframe tbody tr th {\n",
       "        vertical-align: top;\n",
       "    }\n",
       "\n",
       "    .dataframe thead th {\n",
       "        text-align: right;\n",
       "    }\n",
       "</style>\n",
       "<table border=\"1\" class=\"dataframe\">\n",
       "  <thead>\n",
       "    <tr style=\"text-align: right;\">\n",
       "      <th></th>\n",
       "      <th>TmdbId</th>\n",
       "      <th>Popularity</th>\n",
       "      <th>ReleaseDate</th>\n",
       "      <th>Revenue</th>\n",
       "      <th>Runtime</th>\n",
       "    </tr>\n",
       "  </thead>\n",
       "  <tbody>\n",
       "    <tr>\n",
       "      <th>count</th>\n",
       "      <td>7407.000000</td>\n",
       "      <td>7407.000000</td>\n",
       "      <td>7407.000000</td>\n",
       "      <td>7.407000e+03</td>\n",
       "      <td>7401.000000</td>\n",
       "    </tr>\n",
       "    <tr>\n",
       "      <th>mean</th>\n",
       "      <td>66979.850142</td>\n",
       "      <td>8.513969</td>\n",
       "      <td>36582.999055</td>\n",
       "      <td>6.879668e+07</td>\n",
       "      <td>107.713822</td>\n",
       "    </tr>\n",
       "    <tr>\n",
       "      <th>std</th>\n",
       "      <td>98968.303304</td>\n",
       "      <td>12.158823</td>\n",
       "      <td>5648.870461</td>\n",
       "      <td>1.464280e+08</td>\n",
       "      <td>21.474888</td>\n",
       "    </tr>\n",
       "    <tr>\n",
       "      <th>min</th>\n",
       "      <td>5.000000</td>\n",
       "      <td>0.000001</td>\n",
       "      <td>5518.000000</td>\n",
       "      <td>1.000000e+00</td>\n",
       "      <td>0.000000</td>\n",
       "    </tr>\n",
       "    <tr>\n",
       "      <th>25%</th>\n",
       "      <td>9603.000000</td>\n",
       "      <td>3.934902</td>\n",
       "      <td>33917.500000</td>\n",
       "      <td>2.400000e+06</td>\n",
       "      <td>94.000000</td>\n",
       "    </tr>\n",
       "    <tr>\n",
       "      <th>50%</th>\n",
       "      <td>19158.000000</td>\n",
       "      <td>7.435688</td>\n",
       "      <td>38190.000000</td>\n",
       "      <td>1.682954e+07</td>\n",
       "      <td>104.000000</td>\n",
       "    </tr>\n",
       "    <tr>\n",
       "      <th>75%</th>\n",
       "      <td>71850.000000</td>\n",
       "      <td>10.919880</td>\n",
       "      <td>40711.500000</td>\n",
       "      <td>6.725414e+07</td>\n",
       "      <td>118.000000</td>\n",
       "    </tr>\n",
       "    <tr>\n",
       "      <th>max</th>\n",
       "      <td>443319.000000</td>\n",
       "      <td>547.488298</td>\n",
       "      <td>42958.000000</td>\n",
       "      <td>2.787965e+09</td>\n",
       "      <td>338.000000</td>\n",
       "    </tr>\n",
       "  </tbody>\n",
       "</table>\n",
       "</div>"
      ],
      "text/plain": [
       "              TmdbId   Popularity   ReleaseDate       Revenue      Runtime\n",
       "count    7407.000000  7407.000000   7407.000000  7.407000e+03  7401.000000\n",
       "mean    66979.850142     8.513969  36582.999055  6.879668e+07   107.713822\n",
       "std     98968.303304    12.158823   5648.870461  1.464280e+08    21.474888\n",
       "min         5.000000     0.000001   5518.000000  1.000000e+00     0.000000\n",
       "25%      9603.000000     3.934902  33917.500000  2.400000e+06    94.000000\n",
       "50%     19158.000000     7.435688  38190.000000  1.682954e+07   104.000000\n",
       "75%     71850.000000    10.919880  40711.500000  6.725414e+07   118.000000\n",
       "max    443319.000000   547.488298  42958.000000  2.787965e+09   338.000000"
      ]
     },
     "execution_count": 29,
     "metadata": {},
     "output_type": "execute_result"
    }
   ],
   "source": [
    "preprocessed_movies_metadata.describe()"
   ]
  },
  {
   "cell_type": "code",
   "execution_count": 30,
   "metadata": {
    "scrolled": false
   },
   "outputs": [
    {
     "data": {
      "text/plain": [
       "0.25     2400000\n",
       "0.75    67200000\n",
       "Name: Revenue, dtype: int64"
      ]
     },
     "execution_count": 30,
     "metadata": {},
     "output_type": "execute_result"
    }
   ],
   "source": [
    "preprocessed_movies_metadata.Revenue.quantile([.25, .75], interpolation='nearest')"
   ]
  },
  {
   "cell_type": "code",
   "execution_count": 31,
   "metadata": {},
   "outputs": [
    {
     "data": {
      "text/plain": [
       "8.513969096665315"
      ]
     },
     "execution_count": 31,
     "metadata": {},
     "output_type": "execute_result"
    }
   ],
   "source": [
    "preprocessed_movies_metadata.Popularity.mean()"
   ]
  },
  {
   "cell_type": "code",
   "execution_count": 32,
   "metadata": {},
   "outputs": [
    {
     "data": {
      "text/plain": [
       "12.158823174248564"
      ]
     },
     "execution_count": 32,
     "metadata": {},
     "output_type": "execute_result"
    }
   ],
   "source": [
    "preprocessed_movies_metadata.Popularity.std()"
   ]
  },
  {
   "cell_type": "code",
   "execution_count": 33,
   "metadata": {},
   "outputs": [
    {
     "data": {
      "text/plain": [
       "68796676.73619549"
      ]
     },
     "execution_count": 33,
     "metadata": {},
     "output_type": "execute_result"
    }
   ],
   "source": [
    "preprocessed_movies_metadata.Revenue.mean()"
   ]
  },
  {
   "cell_type": "code",
   "execution_count": 34,
   "metadata": {},
   "outputs": [
    {
     "data": {
      "text/plain": [
       "146427973.046396"
      ]
     },
     "execution_count": 34,
     "metadata": {},
     "output_type": "execute_result"
    }
   ],
   "source": [
    "preprocessed_movies_metadata.Revenue.std()"
   ]
  },
  {
   "cell_type": "code",
   "execution_count": 35,
   "metadata": {},
   "outputs": [
    {
     "name": "stdout",
     "output_type": "stream",
     "text": [
      "19729 True\n",
      "19730 True\n",
      "29502 True\n",
      "29503 True\n",
      "35586 True\n",
      "35587 True\n",
      "Total NULL values: 6\n"
     ]
    }
   ],
   "source": [
    "count_null_in_revenue = 0\n",
    "null_revenue_list = []\n",
    "for i in range(len(movies_metadata.revenue)):\n",
    "    if movies_metadata.revenue.isnull()[i] == True:\n",
    "        null_revenue_list.append(i)\n",
    "        print(i, movies_metadata.revenue.isnull()[i])\n",
    "        count_null_in_revenue += 1\n",
    "print(\"Total NULL values: {}\".format(count_null_in_revenue))"
   ]
  },
  {
   "cell_type": "code",
   "execution_count": 36,
   "metadata": {},
   "outputs": [
    {
     "name": "stdout",
     "output_type": "stream",
     "text": [
      "Total ZERO values: 38052\n"
     ]
    }
   ],
   "source": [
    "count_zero_in_revenue = 0\n",
    "zero_revenue_list = []\n",
    "for i in range(len(movies_metadata.revenue)):\n",
    "    if movies_metadata.revenue[i] == 0:\n",
    "        zero_revenue_list.append(i)\n",
    "        count_zero_in_revenue += 1\n",
    "print(\"Total ZERO values: {}\".format(count_zero_in_revenue))"
   ]
  },
  {
   "cell_type": "code",
   "execution_count": 37,
   "metadata": {},
   "outputs": [
    {
     "name": "stdout",
     "output_type": "stream",
     "text": [
      "5505\n",
      "47.107993850883936\n"
     ]
    }
   ],
   "source": [
    "c = 0\n",
    "mean = movies_metadata.revenue.mean()\n",
    "std = movies_metadata.revenue.std()\n",
    "for i, j in enumerate(movies_metadata.revenue):\n",
    "    if movies_metadata.revenue[i] != 0:\n",
    "        if movies_metadata.revenue[i] < std:\n",
    "            c += 1\n",
    "print(c)\n",
    "print((10408 - c) / 10408 * 100)"
   ]
  },
  {
   "cell_type": "code",
   "execution_count": 38,
   "metadata": {},
   "outputs": [
    {
     "data": {
      "text/plain": [
       "22731    0.0\n",
       "29873    0.0\n",
       "29874    0.0\n",
       "29875    0.0\n",
       "29876    0.0\n",
       "        ... \n",
       "19730    NaN\n",
       "29502    NaN\n",
       "29503    NaN\n",
       "35586    NaN\n",
       "35587    NaN\n",
       "Name: revenue, Length: 45466, dtype: float64"
      ]
     },
     "execution_count": 38,
     "metadata": {},
     "output_type": "execute_result"
    }
   ],
   "source": [
    "movies_metadata.revenue.sort_values()"
   ]
  },
  {
   "cell_type": "code",
   "execution_count": null,
   "metadata": {},
   "outputs": [],
   "source": []
  },
  {
   "cell_type": "markdown",
   "metadata": {},
   "source": [
    "* **COMPUTE HOW MANY STRING AND FLOAT DATA TYPES IN MOVIES_METADATA.POPULARITY**"
   ]
  },
  {
   "cell_type": "code",
   "execution_count": 39,
   "metadata": {},
   "outputs": [
    {
     "name": "stdout",
     "output_type": "stream",
     "text": [
      "45461\n",
      "5\n",
      "True\n"
     ]
    }
   ],
   "source": [
    "float_count = 0\n",
    "string_count = 0\n",
    "for i, j in enumerate(movies_metadata.popularity):\n",
    "    if type(j) is float:\n",
    "        float_count += 1\n",
    "    if type(j) is str:\n",
    "        string_count += 1\n",
    "        \n",
    "print(string_count)\n",
    "print(float_count)\n",
    "print(len(movies_metadata.popularity) == float_count+string_count)"
   ]
  }
 ],
 "metadata": {
  "kernelspec": {
   "display_name": "Python 3",
   "language": "python",
   "name": "python3"
  },
  "language_info": {
   "codemirror_mode": {
    "name": "ipython",
    "version": 3
   },
   "file_extension": ".py",
   "mimetype": "text/x-python",
   "name": "python",
   "nbconvert_exporter": "python",
   "pygments_lexer": "ipython3",
   "version": "3.7.1"
  }
 },
 "nbformat": 4,
 "nbformat_minor": 2
}
